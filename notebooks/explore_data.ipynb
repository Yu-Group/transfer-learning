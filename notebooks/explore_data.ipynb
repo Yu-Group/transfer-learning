{
 "cells": [
  {
   "cell_type": "code",
   "execution_count": 9,
   "metadata": {},
   "outputs": [
    {
     "name": "stdout",
     "output_type": "stream",
     "text": [
      "The autoreload extension is already loaded. To reload it, use:\n",
      "  %reload_ext autoreload\n"
     ]
    }
   ],
   "source": [
    "%matplotlib inline\n",
    "%load_ext autoreload\n",
    "%autoreload 2\n",
    "import os\n",
    "from os.path import join as oj\n",
    "import sys\n",
    "sys.path.append('../src')\n",
    "import numpy as np\n",
    "import seaborn as sns\n",
    "import torch\n",
    "import matplotlib\n",
    "from matplotlib import pyplot as plt\n",
    "from sklearn import metrics\n",
    "import sklearn.calibration\n",
    "import data\n",
    "import config"
   ]
  },
  {
   "cell_type": "code",
   "execution_count": 15,
   "metadata": {},
   "outputs": [
    {
     "name": "stdout",
     "output_type": "stream",
     "text": [
      "names of different datasets: dict_keys(['clath_aux+gak_a7d2', 'clath_aux+gak', 'clath_aux+gak_a7d2_new', 'clath_aux_dynamin', 'clath_aux+gak_new', 'clath_gak', 'clath_pi4p_notreatment', 'ap2_pi4p'])\n"
     ]
    }
   ],
   "source": [
    "# config.DSETS has a bunch of metadata on each dataset\n",
    "print('names of different datasets:', config.DSETS.keys())\n",
    "\n",
    "# we generally ignore the two pi4p datasets since their outcome is substantially different\n",
    "print(\"loading data\")\n",
    "dsets = ['clath_aux+gak_a7d2', 'clath_aux+gak', 'clath_aux+gak_a7d2_new', 'clath_aux+gak_new', 'clath_gak', 'clath_aux_dynamin'] # need to add dynamin\n",
    "splits = ['train', 'test']\n",
    "#feat_names = ['X_same_length_normalized'] + data.select_final_feats(data.get_feature_names(df))\n",
    "              #['mean_total_displacement', 'mean_square_displacement', 'lifetime']\n",
    "meta = ['cell_num', 'Y_sig_mean', 'Y_sig_mean_normalized', 'y_consec_thresh']\n",
    "dfs, feat_names = data.load_dfs_for_lstm(dsets=dsets, splits=splits, meta=meta, filter_short=False, normalize=False)\n",
    "\n",
    "# df_full = pd.concat([dfs[(k, s)]\n",
    "#                  for (k, s) in dfs\n",
    "#                  if s == 'train'])[feat_names + meta]\n",
    "# df_full = df_full.dropna()\n",
    "ds = {(k, v): dfs[(k, v)]\n",
    "      for (k, v) in sorted(dfs.keys(), key=lambda x: x[1] + x[0])\n",
    "      #if not k == 'clath_aux+gak_a7d2_new'\n",
    "     }"
   ]
  },
  {
   "cell_type": "markdown",
   "metadata": {},
   "source": [
    "**summarize dsets**"
   ]
  },
  {
   "cell_type": "code",
   "execution_count": null,
   "metadata": {},
   "outputs": [],
   "source": [
    "vals = {} # key is dataset, Partition\n",
    "for k in sorted(ds, key=lambda kv: (kv[0], kv[1])):\n",
    "    \n",
    "    d = ds[k]\n",
    "    d.short = d.lifetime <= 15\n",
    "    # print(k, d.lifetime.min())\n",
    "    y = d['y_consec_thresh']\n",
    "    feats = ['Total clean tracks',\n",
    "             'Difficult tracks', 'Difficult valid events', \n",
    "             'Short tracks', 'Short valid events',]\n",
    "    vals[k] = [d.shape[0],\n",
    "            (~d.short).sum(), y[~d.short].sum(),\n",
    "            d.short.sum(), y[d.short].sum()\n",
    "           ]\n",
    "    vals[k] = [int(x) for x in vals[k]]\n",
    "#     print(feats, vals)\n",
    "df = pd.DataFrame.from_dict(vals).transpose().round(decimals=0)\n",
    "df.columns = feats\n",
    "df.index = df.index.set_names(['Dataset', 'Partition'])\n",
    "print(df.to_latex(index=True, index_names=True))"
   ]
  },
  {
   "cell_type": "markdown",
   "metadata": {},
   "source": [
    "# prepare data"
   ]
  },
  {
   "cell_type": "code",
   "execution_count": null,
   "metadata": {},
   "outputs": [],
   "source": [
    "# currently trained only on 'clath_aux+gak_a7d2_new'\n",
    "# dsets = ['clath_aux+gak_new']\n",
    "dsets = ['clath_aux_dynamin']\n",
    "splits = ['test']\n",
    "# feat_names = ['X_same_length_normalized'] # + data.select_final_feats(data.get_feature_names(df))\n",
    "\n",
    "#feat_names = ['X_same_length_normalized'] + data.select_final_feats(data.get_feature_names(df))\n",
    "              #['mean_total_displacement', 'mean_square_displacement', 'lifetime']\n",
    "meta = ['cell_num', 'Y_sig_mean', 'Y_sig_mean_normalized']\n",
    "dfs, feat_names = data.load_dfs_for_lstm(dsets=dsets, splits=splits, meta=meta, normalize=False)\n",
    "print('type', type(dfs))\n",
    "\n",
    "# load data\n",
    "# df = dfs[('clath_aux+gak_a7d2', 'train')]\n",
    "# df = dfs[('clath_aux+gak_new', 'test')]\n",
    "df = dfs[list(dfs.keys())[0]]\n",
    "X = df[feat_names[:p]]\n",
    "y = df['y_consec_thresh']"
   ]
  },
  {
   "cell_type": "markdown",
   "metadata": {},
   "source": [
    "# look at different dsets"
   ]
  }
 ],
 "metadata": {
  "kernelspec": {
   "display_name": "Python 3",
   "language": "python",
   "name": "python3"
  },
  "language_info": {
   "codemirror_mode": {
    "name": "ipython",
    "version": 3
   },
   "file_extension": ".py",
   "mimetype": "text/x-python",
   "name": "python",
   "nbconvert_exporter": "python",
   "pygments_lexer": "ipython3",
   "version": "3.8.3"
  }
 },
 "nbformat": 4,
 "nbformat_minor": 4
}
